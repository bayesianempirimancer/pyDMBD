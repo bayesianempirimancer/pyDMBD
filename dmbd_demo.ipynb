{
  "cells": [
    {
      "attachments": {},
      "cell_type": "markdown",
      "metadata": {
        "colab_type": "text",
        "id": "view-in-github"
      },
      "source": [
        "<a href=\"https://colab.research.google.com/github/bayesianempirimancer/pyDMBD/blob/main/dmbd_demo.ipynb\" target=\"_parent\"><img src=\"https://colab.research.google.com/assets/colab-badge.svg\" alt=\"Open In Colab\"/></a>"
      ]
    },
    {
      "cell_type": "code",
      "execution_count": 1,
      "metadata": {
        "id": "286WC-i5C8PX"
      },
      "outputs": [],
      "source": [
        "#!git clone https://github.com/bayesianempirimancer/pyDMBD\n"
      ]
    },
    {
      "attachments": {},
      "cell_type": "markdown",
      "metadata": {
        "id": "8OjPAFjhLYCp"
      },
      "source": [
        "This is an example of how to use the Dynamic Markov Blanket Discovery algorithm.  The first thing you need is a properly structured data tensor:\n",
        "\n",
        "    data = torch.randn(T, batch_num, obs_num, obs_dim)\n",
        "\n",
        "T is the length of the time series\n",
        "\n",
        "batch_num is the number of batches\n",
        "\n",
        "obs_num is the number of particles/pixels/locations etc.\n",
        "\n",
        "obs_dim is the dimension of the observables associated with each 'particle'\n",
        "\n",
        "\n",
        "For example, in the Newtons cradle example there are 5 particles so obs_num is 5 and each particle has a x and y position and a x and y velocity so obs_dim is 4.  This is put into the input to the DMBD algorithm by letting obs_shape = (5,4).  \n",
        "\n",
        "\n",
        "We also have to specify the number of latent and role dimension associated with the environment, boundary, and object.  \n",
        "\n",
        "    role_dims = (8,4,8)\n",
        "    hidden_dims = (4,2,4)\n",
        "\n",
        "Optionally you can specify a batch_shape if you want to fit multiple models in parallel, i.e. batch_shape = (10,) to fit 10 models.  \n",
        "\n",
        "Finally, regression_dim and control_dim can be used when there is a known control signal/driving force to the latent dynamical system or a tensor of regressors that influence the observations directly.  In the absense of regressors or control signals we set these to be either 0 or -1, where -1 indicates that there is no baseline or offset.  I usually set control_dim = 0 and try out both 0 and -1 for the regression_dim.  "
      ]
    },
    {
      "cell_type": "code",
      "execution_count": 2,
      "metadata": {
        "colab": {
          "base_uri": "https://localhost:8080/"
        },
        "id": "3VmU9uxkLEs7",
        "outputId": "9cd9f85a-3c89-4b55-bb7b-11dd986e0363"
      },
      "outputs": [
        {
          "name": "stdout",
          "output_type": "stream",
          "text": [
            "ELBO Calculation is Approximate!!!  Not Guaranteed to increase!!!\n"
          ]
        }
      ],
      "source": [
        "\n",
        "import torch\n",
        "import numpy as np\n",
        "from matplotlib import cm\n",
        "import matplotlib.pyplot as plt\n",
        "from models.DynamicMarkovBlanketDiscovery import *\n",
        "\n",
        "\n",
        "# Simulate Newton's Cradle\n",
        "from simulations.NewtonsCradle import NewtonsCradle\n",
        "dmodel = NewtonsCradle(n_balls=5,ball_size=0.2,Tmax=500,batch_size=40,g=1,leak=0.05/8,dt=0.05,include_string=False)\n",
        "data_0 = dmodel.generate_data('random')[0][0::5]\n",
        "data_1 = dmodel.generate_data('1 ball object')[0][0::5]\n",
        "data_2 = dmodel.generate_data('2 ball object')[0][0::5]\n",
        "data = torch.cat((data_0,data_1,data_2),dim=1)\n",
        "dy = torch.zeros(2)\n",
        "dy[1] = 1.0\n",
        "data = data + dy\n",
        "v_data = torch.diff(data,dim=0)\n",
        "v_data = v_data/v_data.std()\n",
        "data = torch.cat((data[1:],v_data),dim=-1)\n",
        "\n",
        "# Initialize the model\n",
        "model = DMBD(obs_shape=data.shape[-2:],role_dims=(8,4,8),hidden_dims=(4,2,4),regression_dim = -1, control_dim=0)\n",
        "\n",
        "\n"
      ]
    },
    {
      "attachments": {},
      "cell_type": "markdown",
      "metadata": {
        "id": "lVhurvxAJ2Cg"
      },
      "source": [
        "Having initialized the model properly, fitting to data is just a matter of calling the update routine.  The first argument is the data while the second two are the regressors and controls.  Since we set control_dim and regression_dim to 0 (or -1) we set these two arguements to None.\n",
        "\n",
        "    iters controls the number of VB updates\n",
        "    lr is the learning rate with 1 corresponding to standard coordinate ascent\n"
      ]
    },
    {
      "cell_type": "code",
      "execution_count": 3,
      "metadata": {
        "colab": {
          "base_uri": "https://localhost:8080/"
        },
        "id": "FPLXLuJdJetS",
        "outputId": "89ff901a-da07-4fd0-884f-18487a1fb8d0"
      },
      "outputs": [
        {
          "name": "stdout",
          "output_type": "stream",
          "text": [
            "Percent Change in ELBO =  nan    Iteration Time =  2.1911380290985107\n",
            "Percent Change in ELBO =  57.978373765945435    Iteration Time =  2.283892869949341\n",
            "Percent Change in ELBO =  35.664188861846924    Iteration Time =  2.2380130290985107\n",
            "Percent Change in ELBO =  54.23155426979065    Iteration Time =  2.2599544525146484\n",
            "Percent Change in ELBO =  94.5757269859314    Iteration Time =  2.2509796619415283\n",
            "Percent Change in ELBO =  1595.6538200378418    Iteration Time =  2.3816287517547607\n",
            "Percent Change in ELBO =  143.68034601211548    Iteration Time =  2.4584152698516846\n",
            "Percent Change in ELBO =  168.58023405075073    Iteration Time =  2.591068983078003\n",
            "Percent Change in ELBO =  8.772049844264984    Iteration Time =  2.5721147060394287\n",
            "Percent Change in ELBO =  2.9069120064377785    Iteration Time =  2.7167277336120605\n",
            "Percent Change in ELBO =  2.167779952287674    Iteration Time =  3.0338854789733887\n",
            "Percent Change in ELBO =  1.9806355237960815    Iteration Time =  2.7576234340667725\n",
            "Percent Change in ELBO =  1.803172379732132    Iteration Time =  2.647916555404663\n",
            "Percent Change in ELBO =  1.5713198110461235    Iteration Time =  2.625977039337158\n",
            "Percent Change in ELBO =  1.465701125562191    Iteration Time =  2.883284330368042\n",
            "Percent Change in ELBO =  1.5415516681969166    Iteration Time =  2.811475992202759\n",
            "Percent Change in ELBO =  1.2709388509392738    Iteration Time =  2.7965199947357178\n",
            "Percent Change in ELBO =  1.0785918682813644    Iteration Time =  2.81646466255188\n",
            "Percent Change in ELBO =  0.9562356397509575    Iteration Time =  2.9381277561187744\n",
            "Percent Change in ELBO =  0.8297356776893139    Iteration Time =  3.1007063388824463\n"
          ]
        }
      ],
      "source": [
        "model.update(data,None,None,iters=20,latent_iters=1,lr=0.5,verbose=True)\n"
      ]
    },
    {
      "attachments": {},
      "cell_type": "markdown",
      "metadata": {
        "id": "qSnQyigKLQ4f"
      },
      "source": [
        "Now lets plot the output and make a movie!"
      ]
    },
    {
      "cell_type": "code",
      "execution_count": 4,
      "metadata": {
        "colab": {
          "base_uri": "https://localhost:8080/",
          "height": 541
        },
        "id": "PVdSX8FaJhn8",
        "outputId": "967107ff-3368-4cec-bc41-90dbfa48b33a"
      },
      "outputs": [
        {
          "name": "stdout",
          "output_type": "stream",
          "text": [
            "Show PC scores\n",
            "Normalized Eigenvalues of s tensor([0.0105, 0.0208, 0.1760, 0.7927])\n",
            "Normalized Eigenvalues of b tensor([0.3079, 0.6921])\n",
            "Normalized Eigenvalues of z tensor([2.3018e-05, 2.7294e-04, 5.1107e-02, 9.4860e-01])\n"
          ]
        },
        {
          "data": {
            "image/png": "[encoded data removed]",
            "text/plain": [
              "<Figure size 432x288 with 2 Axes>"
            ]
          },
          "metadata": {
            "needs_background": "light"
          },
          "output_type": "display_data"
        }
      ],
      "source": [
        "sbz = model.px.mean().squeeze()\n",
        "\n",
        "r1 = model.role_dims[0]\n",
        "r2 = r1+model.role_dims[1]\n",
        "r3 = r2+ model.role_dims[2]\n",
        "h1 = model.hidden_dims[0]\n",
        "h2 = h1+model.hidden_dims[1]\n",
        "h3 = h2+ model.hidden_dims[2]\n",
        "\n",
        "batch_num = 50\n",
        "p = model.assignment_pr()\n",
        "p = p.sum(-2)\n",
        "print('Show PC scores')\n",
        "s = sbz[:,:,0:h1]\n",
        "s = s-s.mean(0).mean(0)\n",
        "b = sbz[:,:,h1:h2]\n",
        "b = b-b.mean(0).mean(0)\n",
        "z = sbz[:,:,h2:h3]\n",
        "z = z-z.mean(0).mean(0)\n",
        "\n",
        "cs = (s.unsqueeze(-1)*s.unsqueeze(-2)).mean(0).mean(0)\n",
        "cb = (b.unsqueeze(-1)*b.unsqueeze(-2)).mean(0).mean(0)\n",
        "cz = (z.unsqueeze(-1)*z.unsqueeze(-2)).mean(0).mean(0)\n",
        "\n",
        "d,v=torch.linalg.eigh(cs)\n",
        "ss = v.transpose(-2,-1)@s.unsqueeze(-1)\n",
        "print('Normalized Eigenvalues of s',d/d.sum())\n",
        "d,v=torch.linalg.eigh(cb)\n",
        "print('Normalized Eigenvalues of b',d/d.sum())\n",
        "bb = v.transpose(-2,-1)@b.unsqueeze(-1)\n",
        "d,v=torch.linalg.eigh(cz)\n",
        "print('Normalized Eigenvalues of z',d/d.sum())\n",
        "zz = v.transpose(-2,-1)@z.unsqueeze(-1)\n",
        "\n",
        "ss = ss.squeeze(-1)[...,-2:]\n",
        "bb = bb.squeeze(-1)[...,-2:]\n",
        "zz = zz.squeeze(-1)[...,-2:]\n",
        "\n",
        "ss = ss/ss.std()\n",
        "bb = bb/bb.std()\n",
        "zz = zz/zz.std()\n",
        "\n",
        "fig, axs = plt.subplots(2, 1, sharex=True)\n",
        "\n",
        "axs[0].plot(ss[:,batch_num,-1:],'b',label='s')\n",
        "axs[0].plot(bb[:,batch_num,-1:],'g',label='b')\n",
        "axs[0].plot(zz[:,batch_num,-1:],'r',label='z')\n",
        "axs[0].set_title('Top PC Score')\n",
        "# handles, labels = axs[0].get_legend_handles_labels()\n",
        "# selected_handles = [handles[0], handles[2], handles[4]]\n",
        "# selected_labels = [labels[0], labels[2], labels[4]]\n",
        "# axs[0].legend(selected_handles, selected_labels)\n",
        "axs[0].legend()\n",
        "\n",
        "axs[1].plot(p[:,batch_num,0],'r')\n",
        "axs[1].plot(p[:,batch_num,1],'g')\n",
        "axs[1].plot(p[:,batch_num,2],'b')\n",
        "axs[1].set_title('Number of Assigned Objects')\n",
        "axs[1].set_xlabel('Time')\n",
        "#plt.savefig('C://Users/brain/Desktop/cradlePCs1.png')\n",
        "plt.show()\n"
      ]
    },
    {
      "cell_type": "code",
      "execution_count": 5,
      "metadata": {
        "colab": {
          "base_uri": "https://localhost:8080/",
          "height": 640
        },
        "id": "49ZFORHcJkFl",
        "outputId": "b523d67f-e928-4195-b18c-80791322fdcc"
      },
      "outputs": [
        {
          "name": "stdout",
          "output_type": "stream",
          "text": [
            "Generating Movie...\n",
            "Generating Animation using sbz assignments\n"
          ]
        },
        {
          "data": {
            "image/png": "[encoded data removed]",
            "text/plain": [
              "<Figure size 504x504 with 1 Axes>"
            ]
          },
          "metadata": {
            "needs_background": "light"
          },
          "output_type": "display_data"
        }
      ],
      "source": [
        "print('Generating Movie...')\n",
        "f = r\"./cradle.mp4\"\n",
        "ar = animate_results('sbz',f, xlim = (-1.5,1.5), ylim = (-0.2,1.2), fps=10)\n",
        "ar.make_movie(model, data, (0,40,60,80))#,120))#,60,61,80,81))\n"
      ]
    },
    {
      "attachments": {},
      "cell_type": "markdown",
      "metadata": {
        "id": "ufwljQ3iPeXj"
      },
      "source": [
        "The use of a learning rate allows for mini-batching.  This is handled by simply calling the update routine on randomly selected mini-batches with a decreased learning rate.  To stabilize inference of latents before updating parameters we use the latent_iters parameter.  The determines the number of times q(sbz) and q(lambda) are iteratively updated before model parameters are updated.  \n"
      ]
    },
    {
      "cell_type": "code",
      "execution_count": 7,
      "metadata": {
        "id": "uoxUkTn8PwDz"
      },
      "outputs": [
        {
          "name": "stdout",
          "output_type": "stream",
          "text": [
            "ELBO Calculation is Approximate!!!  Not Guaranteed to increase!!!\n",
            "Percent Change in ELBO =  nan    Iteration Time =  2.433485984802246\n"
          ]
        },
        {
          "data": {
            "image/png": "[encoded data removed]",
            "text/plain": [
              "<Figure size 432x288 with 1 Axes>"
            ]
          },
          "metadata": {
            "needs_background": "light"
          },
          "output_type": "display_data"
        },
        {
          "name": "stdout",
          "output_type": "stream",
          "text": [
            "ELBO =  tensor(-283905.)\n",
            "Percent Change in ELBO =  38.99730741977692    Iteration Time =  3.378953456878662\n",
            "Percent Change in ELBO =  27.76385247707367    Iteration Time =  3.284215211868286\n",
            "Percent Change in ELBO =  18.20017695426941    Iteration Time =  3.4128713607788086\n",
            "Percent Change in ELBO =  13.360117375850677    Iteration Time =  3.494647741317749\n",
            "Percent Change in ELBO =  9.843029081821442    Iteration Time =  3.4078848361968994\n",
            "Percent Change in ELBO =  13.307012617588043    Iteration Time =  3.480689764022827\n",
            "Percent Change in ELBO =  14.12585973739624    Iteration Time =  3.3590140342712402\n",
            "Percent Change in ELBO =  5.822302028536797    Iteration Time =  3.304161310195923\n",
            "Percent Change in ELBO =  12.181290984153748    Iteration Time =  3.8407270908355713\n",
            "Percent Change in ELBO =  4.531589895486832    Iteration Time =  3.978358268737793\n",
            "ELBO =  tensor(-46995.2656)\n",
            "Percent Change in ELBO =  25.526675581932068    Iteration Time =  3.862668514251709\n",
            "Percent Change in ELBO =  9.432807564735413    Iteration Time =  3.462737560272217\n",
            "Percent Change in ELBO =  3.312116861343384    Iteration Time =  3.4677236080169678\n",
            "Percent Change in ELBO =  -1.6070889309048653    Iteration Time =  3.3869404792785645\n",
            "Percent Change in ELBO =  -2.213895134627819    Iteration Time =  3.3530304431915283\n",
            "Percent Change in ELBO =  21.239425241947174    Iteration Time =  3.335080862045288\n",
            "Percent Change in ELBO =  -10.951531678438187    Iteration Time =  3.386939764022827\n",
            "Percent Change in ELBO =  26.035895943641663    Iteration Time =  3.5016186237335205\n",
            "Percent Change in ELBO =  4.3482378125190735    Iteration Time =  3.5136003494262695\n",
            "Percent Change in ELBO =  -0.7399591617286205    Iteration Time =  3.4627609252929688\n",
            "ELBO =  tensor(-19827.6719)\n",
            "Percent Change in ELBO =  7.86476731300354    Iteration Time =  3.644253969192505\n",
            "Percent Change in ELBO =  45.87319195270538    Iteration Time =  3.504625082015991\n",
            "Percent Change in ELBO =  -121.06575965881348    Iteration Time =  3.386939287185669\n",
            "Percent Change in ELBO =  68.6098039150238    Iteration Time =  3.276236057281494\n",
            "Percent Change in ELBO =  -93.22481155395508    Iteration Time =  3.2772345542907715\n",
            "Percent Change in ELBO =  -43.707409501075745    Iteration Time =  3.5874040126800537\n",
            "Percent Change in ELBO =  2.3902462795376778    Iteration Time =  3.545518398284912\n",
            "Percent Change in ELBO =  29.533138871192932    Iteration Time =  3.546513557434082\n",
            "Percent Change in ELBO =  -1.3580352067947388    Iteration Time =  3.5634586811065674\n",
            "Percent Change in ELBO =  9.56161618232727    Iteration Time =  3.6751554012298584\n",
            "ELBO =  tensor(-12015.0410)\n",
            "Percent Change in ELBO =  13.102638721466064    Iteration Time =  3.621314525604248\n",
            "Percent Change in ELBO =  76.2285590171814    Iteration Time =  3.7519636154174805\n",
            "Percent Change in ELBO =  -231.75363540649414    Iteration Time =  3.5235743522644043\n",
            "Percent Change in ELBO =  -66.07199907302856    Iteration Time =  3.5016305446624756\n",
            "Percent Change in ELBO =  68.47797632217407    Iteration Time =  3.3580167293548584\n",
            "Percent Change in ELBO =  -138.98807764053345    Iteration Time =  3.4727089405059814\n",
            "Percent Change in ELBO =  137.68298625946045    Iteration Time =  3.33508038520813\n",
            "Percent Change in ELBO =  -360.0970506668091    Iteration Time =  3.386939287185669\n",
            "Percent Change in ELBO =  23.252052068710327    Iteration Time =  3.3370742797851562\n",
            "Percent Change in ELBO =  -20.807239413261414    Iteration Time =  3.3131306171417236\n",
            "ELBO =  tensor(-9361.7490)\n",
            "Percent Change in ELBO =  61.95027232170105    Iteration Time =  3.135610580444336\n",
            "Percent Change in ELBO =  -178.95373106002808    Iteration Time =  3.1246423721313477\n",
            "Percent Change in ELBO =  58.09970498085022    Iteration Time =  3.0608103275299072\n",
            "Percent Change in ELBO =  256.5603494644165    Iteration Time =  3.089735984802246\n",
            "Percent Change in ELBO =  -154.7324538230896    Iteration Time =  3.1056931018829346\n",
            "Percent Change in ELBO =  74.51204657554626    Iteration Time =  2.9411325454711914\n",
            "Percent Change in ELBO =  -681.2292098999023    Iteration Time =  2.9381327629089355\n",
            "Percent Change in ELBO =  174.22229051589966    Iteration Time =  2.852355718612671\n",
            "Percent Change in ELBO =  -228.82232666015625    Iteration Time =  2.979025363922119\n",
            "Percent Change in ELBO =  96.53335809707642    Iteration Time =  2.9092447757720947\n",
            "ELBO =  tensor(-240.1130)\n",
            "Percent Change in ELBO =  1108.5082054138184    Iteration Time =  2.9760379791259766\n",
            "Percent Change in ELBO =  29.936081171035767    Iteration Time =  2.9161999225616455\n",
            "Percent Change in ELBO =  46.8115359544754    Iteration Time =  2.8733139038085938\n",
            "Percent Change in ELBO =  -306.22408390045166    Iteration Time =  2.9301624298095703\n",
            "Percent Change in ELBO =  72.34724164009094    Iteration Time =  2.859351634979248\n",
            "Percent Change in ELBO =  19.9940025806427    Iteration Time =  2.8842849731445312\n",
            "Percent Change in ELBO =  437.1640205383301    Iteration Time =  2.8035004138946533\n",
            "Percent Change in ELBO =  46.936216950416565    Iteration Time =  2.8553884029388428\n",
            "Percent Change in ELBO =  -17.87579208612442    Iteration Time =  2.835416555404663\n",
            "Percent Change in ELBO =  -97.93095588684082    Iteration Time =  2.931159019470215\n",
            "ELBO =  tensor(169.6663)\n",
            "Percent Change in ELBO =  3496.4893341064453    Iteration Time =  2.8623428344726562\n",
            "Percent Change in ELBO =  77.26834416389465    Iteration Time =  2.857346534729004\n",
            "Percent Change in ELBO =  -37.17967867851257    Iteration Time =  2.894259452819824\n",
            "Percent Change in ELBO =  -54.84703779220581    Iteration Time =  2.88029408454895\n",
            "Percent Change in ELBO =  262.0422124862671    Iteration Time =  2.8862788677215576\n",
            "Percent Change in ELBO =  -25.80803632736206    Iteration Time =  3.062807559967041\n",
            "Percent Change in ELBO =  -13.304366171360016    Iteration Time =  2.8962526321411133\n",
            "Percent Change in ELBO =  -47.990334033966064    Iteration Time =  2.9152023792266846\n",
            "Percent Change in ELBO =  -102.14259624481201    Iteration Time =  2.885282039642334\n",
            "Percent Change in ELBO =  16045.753479003906    Iteration Time =  2.9401164054870605\n",
            "ELBO =  tensor(13008.1084)\n",
            "Percent Change in ELBO =  -36.130595207214355    Iteration Time =  2.9421305656433105\n",
            "Percent Change in ELBO =  -46.87275588512421    Iteration Time =  2.9880049228668213\n",
            "Percent Change in ELBO =  -151.13036632537842    Iteration Time =  2.9929935932159424\n",
            "Percent Change in ELBO =  597.1274852752686    Iteration Time =  2.9780311584472656\n",
            "Percent Change in ELBO =  -12.852023541927338    Iteration Time =  2.9880077838897705\n",
            "Percent Change in ELBO =  -77.05565690994263    Iteration Time =  3.0348753929138184\n",
            "Percent Change in ELBO =  -39.45909142494202    Iteration Time =  3.0129404067993164\n",
            "Percent Change in ELBO =  792.1072959899902    Iteration Time =  2.9052295684814453\n",
            "Percent Change in ELBO =  -36.3601952791214    Iteration Time =  2.9780356884002686\n",
            "Percent Change in ELBO =  -67.30371117591858    Iteration Time =  2.9122085571289062\n",
            "ELBO =  tensor(2518.5190)\n",
            "Percent Change in ELBO =  299.67782497406006    Iteration Time =  2.9720511436462402\n",
            "Percent Change in ELBO =  -20.193707942962646    Iteration Time =  2.8673295974731445\n",
            "Percent Change in ELBO =  9.313295781612396    Iteration Time =  3.083292245864868\n"
          ]
        }
      ],
      "source": [
        "model = DMBD(obs_shape=data.shape[-2:],role_dims=(8,4,8),hidden_dims=(4,2,4),regression_dim = -1, control_dim=0)\n",
        "minibatch_size = 20\n",
        "batch_size = data.shape[1]\n",
        "lr = 0.01*minibatch_size/batch_size\n",
        "iters = (100*batch_size)//minibatch_size\n",
        "batch_num = 0\n",
        "for i in range(iters):\n",
        "    idx = torch.randint(0,data.shape[1],(minibatch_size,))\n",
        "    model.update(data[:,idx],None,None,iters=1,latent_iters=5,lr=lr,verbose=True)\n",
        "    if i%100 == 0:\n",
        "      sbz=model.px.mean()\n",
        "      B = model.obs_model.obs_dist.mean()\n",
        "      if model.regression_dim==0:\n",
        "          roles = B@sbz\n",
        "      else:\n",
        "          roles = B[...,:-1]@sbz + B[...,-1:]\n",
        "      sbz = sbz.squeeze()\n",
        "      roles = roles.squeeze()\n",
        "      idx = model.obs_model.NA/model.obs_model.NA.sum()>0.01\n",
        "\n",
        "      r1 = model.role_dims[0]\n",
        "      r2 = r1+model.role_dims[1]\n",
        "      r3 = r2+ model.role_dims[2]\n",
        "\n",
        "      pbar = model.obs_model.NA/model.obs_model.NA.sum()\n",
        "      pbar = pbar/pbar.max()\n",
        "      p1=model.obs_model.p[:,batch_num,:,list(range(0,r1))].mean(-2)\n",
        "      p2=model.obs_model.p[:,batch_num,:,list(range(r1,r2))].mean(-2)\n",
        "      p3=model.obs_model.p[:,batch_num,:,list(range(r2,r3))].mean(-2)\n",
        "\n",
        "      plt.scatter(roles[:,batch_num,list(range(0,r1)),0],roles[:,batch_num,list(range(0,r1)),1],color='r',alpha=0.25)\n",
        "      plt.scatter(roles[:,batch_num,list(range(r1,r2)),0],roles[:,batch_num,list(range(r1,r2)),1],color='g',alpha=0.25)\n",
        "      plt.scatter(roles[:,batch_num,list(range(r2,r3)),0],roles[:,batch_num,list(range(r2,r3)),1],color='b',alpha=0.25)\n",
        "      plt.xlim(-1.6,1.6)\n",
        "      plt.ylim(-0.2,1.0)\n",
        "      plt.show()\n",
        "    if i%10 == 0:\n",
        "      print('ELBO = ',model.ELBO())\n"
      ]
    }
  ],
  "metadata": {
    "colab": {
      "include_colab_link": true,
      "provenance": []
    },
    "kernelspec": {
      "display_name": "Python 3",
      "name": "python3"
    },
    "language_info": {
      "codemirror_mode": {
        "name": "ipython",
        "version": 3
      },
      "file_extension": ".py",
      "mimetype": "text/x-python",
      "name": "python",
      "nbconvert_exporter": "python",
      "pygments_lexer": "ipython3",
      "version": "3.9.12"
    }
  },
  "nbformat": 4,
  "nbformat_minor": 0
}
