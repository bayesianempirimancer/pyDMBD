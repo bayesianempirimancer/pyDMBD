{
  "nbformat": 4,
  "nbformat_minor": 0,
  "metadata": {
    "colab": {
      "provenance": [],
      "authorship_tag": "ABX9TyOfdeVaM49cOdeEUzOpIrUN",
      "include_colab_link": true
    },
    "kernelspec": {
      "name": "python3",
      "display_name": "Python 3"
    },
    "language_info": {
      "name": "python"
    }
  },
  "cells": [
    {
      "cell_type": "markdown",
      "metadata": {
        "id": "view-in-github",
        "colab_type": "text"
      },
      "source": [
        "<a href=\"https://colab.research.google.com/github/bayesianempirimancer/pyDMBD/blob/main/dmbd_demo.ipynb\" target=\"_parent\"><img src=\"https://colab.research.google.com/assets/colab-badge.svg\" alt=\"Open In Colab\"/></a>"
      ]
    },
    {
      "cell_type": "markdown",
      "source": [
        "This is a example of how to use the Dynamic Markov Blanket Discovery algorithm.  The first thing you need is a properly structured data tensor:\n",
        "\n",
        "    data = torch.randn(T, batch_num, obs_num, obs_dim)\n",
        "\n",
        "T is the length of the time series\n",
        "batch_num is the number of batches\n",
        "obs_num is the number of particles/pixels/locations etc.\n",
        "obs_dim is the dimension of the observables associated with each 'particle'\n",
        "\n",
        "For example, in the Newtons cradle example there are 5 particles so obs_num is 5 and each particle has a x and y position and a x and y velocity so obs_dim is 4.  This is put into the input to the DMBD algorithm by letting obs_shape = (5,4).  \n",
        "\n",
        "\n",
        "We also have to specify the number of latent and role dimension associated with the environment, boundary, and object.  \n",
        "\n",
        "    role_dims = (8,4,8)\n",
        "    hidden_dims = (4,2,4)\n",
        "\n",
        "Optionally you can specify a batch_shape if you want to fit multiple models in parallel, i.e. batch_shape = (10,) to fit 10 models.  \n",
        "\n",
        "Finally, regression_dim and control_dim can be used when there is a known control signal/driving force to the latent dynamical system or a tensor of regressors that influence the observations directly.  In the absense of regressors or control signals we set these to be either 0 or -1, where -1 indicates that there is no baseline or offset.  I usually set control_dim = 0 and try out both 0 and -1 for the regression_dim.  "
      ],
      "metadata": {
        "id": "8OjPAFjhLYCp"
      }
    },
    {
      "cell_type": "code",
      "execution_count": null,
      "metadata": {
        "id": "3VmU9uxkLEs7",
        "outputId": "78373db5-5742-4c42-f632-b54b32184884",
        "colab": {
          "base_uri": "https://localhost:8080/",
          "height": 373
        }
      },
      "outputs": [
        {
          "output_type": "error",
          "ename": "ModuleNotFoundError",
          "evalue": "ignored",
          "traceback": [
            "\u001b[0;31m---------------------------------------------------------------------------\u001b[0m",
            "\u001b[0;31mModuleNotFoundError\u001b[0m                       Traceback (most recent call last)",
            "\u001b[0;32m<ipython-input-1-892015db1dad>\u001b[0m in \u001b[0;36m<cell line: 5>\u001b[0;34m()\u001b[0m\n\u001b[1;32m      3\u001b[0m \u001b[0;32mfrom\u001b[0m \u001b[0mmatplotlib\u001b[0m \u001b[0;32mimport\u001b[0m \u001b[0mcm\u001b[0m\u001b[0;34m\u001b[0m\u001b[0;34m\u001b[0m\u001b[0m\n\u001b[1;32m      4\u001b[0m \u001b[0;32mimport\u001b[0m \u001b[0mmatplotlib\u001b[0m\u001b[0;34m.\u001b[0m\u001b[0mpyplot\u001b[0m \u001b[0;32mas\u001b[0m \u001b[0mplt\u001b[0m\u001b[0;34m\u001b[0m\u001b[0;34m\u001b[0m\u001b[0m\n\u001b[0;32m----> 5\u001b[0;31m \u001b[0;32mfrom\u001b[0m \u001b[0mDynamicMarkovBlanketDiscovery\u001b[0m \u001b[0;32mimport\u001b[0m \u001b[0mDMBD\u001b[0m\u001b[0;34m\u001b[0m\u001b[0;34m\u001b[0m\u001b[0m\n\u001b[0m\u001b[1;32m      6\u001b[0m \u001b[0;34m\u001b[0m\u001b[0m\n\u001b[1;32m      7\u001b[0m \u001b[0;34m\u001b[0m\u001b[0m\n",
            "\u001b[0;31mModuleNotFoundError\u001b[0m: No module named 'DynamicMarkovBlanketDiscovery'",
            "",
            "\u001b[0;31m---------------------------------------------------------------------------\u001b[0;32m\nNOTE: If your import is failing due to a missing package, you can\nmanually install dependencies using either !pip or !apt.\n\nTo view examples of installing some common dependencies, click the\n\"Open Examples\" button below.\n\u001b[0;31m---------------------------------------------------------------------------\u001b[0m\n"
          ],
          "errorDetails": {
            "actions": [
              {
                "action": "open_url",
                "actionText": "Open Examples",
                "url": "/notebooks/snippets/importing_libraries.ipynb"
              }
            ]
          }
        }
      ],
      "source": [
        "import torch\n",
        "import numpy as np\n",
        "from matplotlib import cm\n",
        "import matplotlib.pyplot as plt\n",
        "from DynamicMarkovBlanketDiscovery import *\n",
        "\n",
        "\n",
        "# Simulate Newton's Cradle\n",
        "from simulations.NewtonsCradle import NewtonsCradle\n",
        "dmodel = NewtonsCradle(n_balls=5,ball_size=0.2,Tmax=500,batch_size=40,g=1,leak=0.05/8,dt=0.05,include_string=False)\n",
        "data_0 = dmodel.generate_data('random')[0][0::5]\n",
        "data_1 = dmodel.generate_data('1 ball object')[0][0::5]\n",
        "data_2 = dmodel.generate_data('2 ball object')[0][0::5]\n",
        "data = torch.cat((data_0,data_1,data_2),dim=1)\n",
        "dy = torch.zeros(2)\n",
        "dy[1] = 1.0\n",
        "data = data + dy\n",
        "v_data = torch.diff(data,dim=0)\n",
        "v_data = v_data/v_data.std()\n",
        "data = torch.cat((data[1:],v_data),dim=-1)\n",
        "\n",
        "# Initialize the model\n",
        "model = DMBD(obs_shape=data.shape[-2:],role_dims=(8,4,8),hidden_dims=(4,2,4),regression_dim = 0, control_dim=0)\n",
        "\n",
        "\n"
      ]
    }
  ]
}